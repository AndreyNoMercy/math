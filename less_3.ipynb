{
 "cells": [
  {
   "cell_type": "code",
   "execution_count": 1,
   "metadata": {},
   "outputs": [],
   "source": [
    "import numpy as np\n",
    "import pandas as pd\n",
    "from math import sqrt\n",
    "import scipy\n",
    "import matplotlib.pyplot as plt\n",
    "import seaborn as sns"
   ]
  },
  {
   "cell_type": "markdown",
   "metadata": {},
   "source": [
    "# TASK_1"
   ]
  },
  {
   "cell_type": "markdown",
   "metadata": {},
   "source": [
    "Даны значения зарплат из выборки выпускников:\n",
    "100, 80, 75, 77, 89, 33, 45, 25, 65, 17, 30, 24, 57, 55, 70, 75, 65, 84, 90, 150.\n",
    "Без использования статистических функций вроде mean, std, var, посчитать среднее арифметическое, среднее квадратичное отклонение, смещенную и несмещенную оценки дисперсий для данной выборки.\n",
    "Можно затем посчитать те же значения с использованием статистических функций, чтобы проверить себя."
   ]
  },
  {
   "cell_type": "code",
   "execution_count": 2,
   "metadata": {},
   "outputs": [],
   "source": [
    "salarys = np.array([100, 80, 75, 77, 89, 33, 45, 25, 65, 17, 30, 24, 57, 55, 70, 75, 65, 84, 90, 150])"
   ]
  },
  {
   "cell_type": "code",
   "execution_count": 3,
   "metadata": {},
   "outputs": [
    {
     "name": "stdout",
     "output_type": "stream",
     "text": [
      "mean = 65.3\n"
     ]
    }
   ],
   "source": [
    "sum_ = 0\n",
    "len_ = 0\n",
    "for salary in salarys:\n",
    "    sum_ += salary\n",
    "    len_ += 1\n",
    "mean_ = sum_ / len_\n",
    "print(f'mean = {mean_}')"
   ]
  },
  {
   "cell_type": "code",
   "execution_count": 6,
   "metadata": {},
   "outputs": [
    {
     "name": "stdout",
     "output_type": "stream",
     "text": [
      "variance = 950.11\n",
      "variance - 1 = 1000.1157894736842\n",
      "standart deviation = 30.823854398825596\n"
     ]
    }
   ],
   "source": [
    "tmp = 0\n",
    "for salary in salarys:\n",
    "    tmp += (salary - mean_)**2\n",
    "variance = tmp / len_\n",
    "variance_1 = tmp / (len_ - 1)\n",
    "stand_deviation = sqrt(variance)\n",
    "print(f'variance = {variance}')\n",
    "print(f'variance - 1 = {variance_1}')\n",
    "print(f'standart deviation = {stand_deviation}')"
   ]
  },
  {
   "cell_type": "code",
   "execution_count": 7,
   "metadata": {},
   "outputs": [
    {
     "name": "stdout",
     "output_type": "stream",
     "text": [
      "mean = 65.3, check = 65.3, True\n",
      "variance = 950.11, check = 950.11, True\n",
      "variance - 1 = 1000.1157894736842, check = 1000.1157894736842, True\n",
      "standart deviation = 30.823854398825596, check = 30.823854398825596, True\n"
     ]
    }
   ],
   "source": [
    "print(f'mean = {mean_}, check = {salarys.mean()}, {mean_ == salarys.mean()}')\n",
    "print(f'variance = {variance}, check = {salarys.var(ddof=0)}, {variance == salarys.var(ddof=0)}')\n",
    "print(f'variance - 1 = {variance_1}, check = {salarys.var(ddof=1)}, {variance_1 == salarys.var(ddof=1)}')\n",
    "print(f'standart deviation = {stand_deviation}, check = {salarys.std(ddof=0)}, {stand_deviation == salarys.std(ddof=0)}')"
   ]
  },
  {
   "cell_type": "markdown",
   "metadata": {},
   "source": [
    "# TASK_2"
   ]
  },
  {
   "cell_type": "markdown",
   "metadata": {},
   "source": [
    "Для выборки из задачи 1 найти первый и третий квартили, интерквартильное расстояние. Найти выборсы в выборке, используя для этого \"усы\" из boxplot. В этой задаче можно использовать статистические функции."
   ]
  },
  {
   "cell_type": "code",
   "execution_count": 8,
   "metadata": {},
   "outputs": [],
   "source": [
    "salar_pd = pd.DataFrame({'salary':[100, 80, 75, 77, 89, 33, 45, 25, 65, 17, 30, 24, 57, 55, 70, 75, 65, 84, 90, 150],\n",
    "                      }, columns=['salary'])"
   ]
  },
  {
   "cell_type": "code",
   "execution_count": 9,
   "metadata": {},
   "outputs": [
    {
     "data": {
      "text/html": [
       "<div>\n",
       "<style scoped>\n",
       "    .dataframe tbody tr th:only-of-type {\n",
       "        vertical-align: middle;\n",
       "    }\n",
       "\n",
       "    .dataframe tbody tr th {\n",
       "        vertical-align: top;\n",
       "    }\n",
       "\n",
       "    .dataframe thead th {\n",
       "        text-align: right;\n",
       "    }\n",
       "</style>\n",
       "<table border=\"1\" class=\"dataframe\">\n",
       "  <thead>\n",
       "    <tr style=\"text-align: right;\">\n",
       "      <th></th>\n",
       "      <th>salary</th>\n",
       "    </tr>\n",
       "  </thead>\n",
       "  <tbody>\n",
       "    <tr>\n",
       "      <th>count</th>\n",
       "      <td>20.000000</td>\n",
       "    </tr>\n",
       "    <tr>\n",
       "      <th>mean</th>\n",
       "      <td>65.300000</td>\n",
       "    </tr>\n",
       "    <tr>\n",
       "      <th>std</th>\n",
       "      <td>31.624607</td>\n",
       "    </tr>\n",
       "    <tr>\n",
       "      <th>min</th>\n",
       "      <td>17.000000</td>\n",
       "    </tr>\n",
       "    <tr>\n",
       "      <th>25%</th>\n",
       "      <td>42.000000</td>\n",
       "    </tr>\n",
       "    <tr>\n",
       "      <th>50%</th>\n",
       "      <td>67.500000</td>\n",
       "    </tr>\n",
       "    <tr>\n",
       "      <th>75%</th>\n",
       "      <td>81.000000</td>\n",
       "    </tr>\n",
       "    <tr>\n",
       "      <th>max</th>\n",
       "      <td>150.000000</td>\n",
       "    </tr>\n",
       "  </tbody>\n",
       "</table>\n",
       "</div>"
      ],
      "text/plain": [
       "           salary\n",
       "count   20.000000\n",
       "mean    65.300000\n",
       "std     31.624607\n",
       "min     17.000000\n",
       "25%     42.000000\n",
       "50%     67.500000\n",
       "75%     81.000000\n",
       "max    150.000000"
      ]
     },
     "execution_count": 9,
     "metadata": {},
     "output_type": "execute_result"
    }
   ],
   "source": [
    "salar_pd.describe()"
   ]
  },
  {
   "cell_type": "code",
   "execution_count": 10,
   "metadata": {},
   "outputs": [
    {
     "name": "stdout",
     "output_type": "stream",
     "text": [
      "1 quartile = 42\n",
      "3 quartile = 81\n",
      "distance = 39\n"
     ]
    }
   ],
   "source": [
    "print(f'1 quartile = 42')\n",
    "print(f'3 quartile = 81')\n",
    "print(f'distance = 39')"
   ]
  },
  {
   "cell_type": "code",
   "execution_count": 11,
   "metadata": {},
   "outputs": [
    {
     "data": {
      "text/plain": [
       "array([ 17,  24,  25,  30,  33,  45,  55,  57,  65,  65,  70,  75,  75,\n",
       "        77,  80,  84,  89,  90, 100, 150])"
      ]
     },
     "execution_count": 11,
     "metadata": {},
     "output_type": "execute_result"
    }
   ],
   "source": [
    "salarys.sort()\n",
    "salarys"
   ]
  },
  {
   "cell_type": "markdown",
   "metadata": {},
   "source": [
    "Так как количество элементов в выбрке четное, то 1 и 3 квартили должны находиться между элемента, строго посередине? Метод describe() говорит, что первая = 42, а третья 81. Но если считать руками, то получается первая = 39, а третья = 82. Не понял этот момент."
   ]
  },
  {
   "cell_type": "code",
   "execution_count": 12,
   "metadata": {},
   "outputs": [
    {
     "data": {
      "text/plain": [
       "<function matplotlib.pyplot.show(*args, **kw)>"
      ]
     },
     "execution_count": 12,
     "metadata": {},
     "output_type": "execute_result"
    },
    {
     "data": {
      "image/png": "[encoded data removed]",
      "text/plain": [
       "<Figure size 432x288 with 1 Axes>"
      ]
     },
     "metadata": {
      "needs_background": "light"
     },
     "output_type": "display_data"
    }
   ],
   "source": [
    "sns.boxplot(salarys)\n",
    "plt.show"
   ]
  },
  {
   "cell_type": "code",
   "execution_count": 13,
   "metadata": {},
   "outputs": [
    {
     "name": "stdout",
     "output_type": "stream",
     "text": [
      "150\n"
     ]
    }
   ],
   "source": [
    "lowest = 42 - 39 * 1.5\n",
    "highest = 81 + 39 * 1.5\n",
    "for salary in salarys:\n",
    "    if salary < lowest or salary >  highest:\n",
    "        print(salary)"
   ]
  },
  {
   "cell_type": "markdown",
   "metadata": {},
   "source": [
    "# TASK_3"
   ]
  },
  {
   "cell_type": "markdown",
   "metadata": {},
   "source": [
    "В университет на факультеты A и B поступило равное количество студентов, а на факультет C студентов поступило столько же, сколько на A и B вместе. Вероятность того, что студент факультета A сдаст первую сессию, равна 0.8. Для студента факультета B эта вероятность равна 0.7, а для студента факультета C - 0.9. Студент сдал первую сессию. Какова вероятность, что он учится: a) на факультете A? б) на факультете B? в) на факультете C?\n",
    "Замечание: да, эта задача не на тему описательных статистик, но тема важная, и её стоит иногда освежать в памяти."
   ]
  },
  {
   "cell_type": "code",
   "execution_count": 14,
   "metadata": {},
   "outputs": [
    {
     "name": "stdout",
     "output_type": "stream",
     "text": [
      "A = 0.24242424242424246, B = 0.21212121212121213, C = 0.5454545454545455\n"
     ]
    }
   ],
   "source": [
    "# вероятность попадания на факультет\n",
    "Pa = 0.25\n",
    "Pb = 0.25\n",
    "Pc = 0.5\n",
    "# веротянотсь сдать экзамен на факултете\n",
    "Paex = 0.8\n",
    "Pbex = 0.7\n",
    "Pcex = 0.9\n",
    "\n",
    "PA = (Pa * Paex) / (Pa * Paex + Pb * Pbex + Pc * Pcex)\n",
    "PB = (Pb * Pbex) / (Pa * Paex + Pb * Pbex + Pc * Pcex)\n",
    "PC = (Pc * Pcex) / (Pa * Paex + Pb * Pbex + Pc * Pcex)\n",
    "print(f'A = {PA}, B = {PB}, C = {PC}')"
   ]
  }
 ],
 "metadata": {
  "kernelspec": {
   "display_name": "Python 3",
   "language": "python",
   "name": "python3"
  },
  "language_info": {
   "codemirror_mode": {
    "name": "ipython",
    "version": 3
   },
   "file_extension": ".py",
   "mimetype": "text/x-python",
   "name": "python",
   "nbconvert_exporter": "python",
   "pygments_lexer": "ipython3",
   "version": "3.7.6"
  }
 },
 "nbformat": 4,
 "nbformat_minor": 4
}
