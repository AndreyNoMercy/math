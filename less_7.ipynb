{
 "cells": [
  {
   "cell_type": "code",
   "execution_count": 1,
   "metadata": {},
   "outputs": [],
   "source": [
    "import numpy as np\n",
    "from scipy import stats\n",
    "from matplotlib import pyplot as plt\n",
    "plt.style.use('seaborn-whitegrid')"
   ]
  },
  {
   "cell_type": "markdown",
   "metadata": {},
   "source": [
    "# TASK_1"
   ]
  },
  {
   "cell_type": "markdown",
   "metadata": {},
   "source": [
    "Дана матрица объект-признак\n",
    "X = [[ 1.22401313, 2.30868478, 3.03636353, 2.69287214],\n",
    "[-0.18757272, 1.30337355, 5.12093014, 3.46363202],\n",
    "[-0.81094525, 1.82463398, 5.79686488, 1.86159445],\n",
    "[ 0.75129018, 2.67392052, 3.65529809, 1.66746094],\n",
    "[ 0.00972362, 1.97367255, 2.50594319, 1.69755173],\n",
    "[-0.62972637, 0.77750764, 2.84124027, 4.54410559],\n",
    "[ 2.29536229, 1.81206697, 1.95026215, 1.51874636],\n",
    "[ 0.0920418 , 2.26971361, 7.47708735, 2.61081203],\n",
    "[ 2.39252799, 3.17563985, 3.61420599, 5.10773362],\n",
    "[ 0.54983815, 2.87988651, 1.65752765, 1.59635987]]\n",
    "и значения целевой переменной\n",
    "y = [ 9.26193358, 9.700363 , 8.67214805, 8.74796974, 6.18689108,\n",
    "7.53312713, 7.57643777, 12.44965478, 14.29010746, 6.68361218]\n",
    "Подберите два признака (из четырёх) так, чтобы уровень линейной зависимости целевой переменной от значений этих признаков был максимальным. Другими словами, модель линейной регрессии на этих признаках должна давать наилучший результат.\n",
    "Является ли значимым получившееся уравнение регрессии?"
   ]
  },
  {
   "cell_type": "markdown",
   "metadata": {},
   "source": [
    "* Если честно не понял как надо решить эту задачу.\n",
    "Поэтому снала найду 2 призанка которые больще всего кореллируют с у, проверю что они не линейно зависимы. Потом добалю столбец единиц в матрицу признаков(так как я не понял в какких случаях он добавляается, а в каких нет)\n",
    "А потом переберу все комбинации признаков с добавлением стобца единиц и без. И по R ** 2 выберу наилучшую модель, что бы хоть как то себя проверить"
   ]
  },
  {
   "cell_type": "code",
   "execution_count": 2,
   "metadata": {},
   "outputs": [],
   "source": [
    "X = np.array([[ 1.22401313, 2.30868478, 3.03636353, 2.69287214], [-0.18757272, 1.30337355, 5.12093014, 3.46363202], [-0.81094525, 1.82463398, 5.79686488, 1.86159445], [ 0.75129018, 2.67392052, 3.65529809, 1.66746094], [ 0.00972362, 1.97367255, 2.50594319, 1.69755173], [-0.62972637, 0.77750764, 2.84124027, 4.54410559], [ 2.29536229, 1.81206697, 1.95026215, 1.51874636], [ 0.0920418 , 2.26971361, 7.47708735, 2.61081203], [ 2.39252799, 3.17563985, 3.61420599, 5.10773362], [ 0.54983815, 2.87988651, 1.65752765, 1.59635987]])\n",
    "\n",
    "y = np.array( [ 9.26193358, 9.700363 , 8.67214805, 8.74796974, 6.18689108, 7.53312713, 7.57643777, 12.44965478, 14.29010746, 6.68361218])"
   ]
  },
  {
   "cell_type": "code",
   "execution_count": 3,
   "metadata": {},
   "outputs": [
    {
     "name": "stdout",
     "output_type": "stream",
     "text": [
      "x0 - 0.3516766886966433\n",
      "x1 - 0.3998583479845226\n",
      "x2 - 0.5826374546323105\n",
      "x3 - 0.6029167757328505\n"
     ]
    }
   ],
   "source": [
    "for i in range(X.shape[1]):\n",
    "    print(f'x{i} - {np.corrcoef(y, X[:,i])[0,1]}')"
   ]
  },
  {
   "cell_type": "code",
   "execution_count": 4,
   "metadata": {},
   "outputs": [
    {
     "data": {
      "text/plain": [
       "0.12948069899052872"
      ]
     },
     "execution_count": 4,
     "metadata": {},
     "output_type": "execute_result"
    }
   ],
   "source": [
    "np.corrcoef(X[:,2], X[:,3])[0,1]"
   ]
  },
  {
   "cell_type": "code",
   "execution_count": 5,
   "metadata": {},
   "outputs": [
    {
     "data": {
      "text/plain": [
       "array([[1.        , 3.03636353, 2.69287214],\n",
       "       [1.        , 5.12093014, 3.46363202],\n",
       "       [1.        , 5.79686488, 1.86159445],\n",
       "       [1.        , 3.65529809, 1.66746094],\n",
       "       [1.        , 2.50594319, 1.69755173],\n",
       "       [1.        , 2.84124027, 4.54410559],\n",
       "       [1.        , 1.95026215, 1.51874636],\n",
       "       [1.        , 7.47708735, 2.61081203],\n",
       "       [1.        , 3.61420599, 5.10773362],\n",
       "       [1.        , 1.65752765, 1.59635987]])"
      ]
     },
     "execution_count": 5,
     "metadata": {},
     "output_type": "execute_result"
    }
   ],
   "source": [
    "ones = np.ones((X.shape[0], 1))\n",
    "X_1 = np.hstack((ones, X[:,2:4]))\n",
    "X_1"
   ]
  },
  {
   "cell_type": "code",
   "execution_count": 6,
   "metadata": {},
   "outputs": [
    {
     "data": {
      "text/plain": [
       "4547.328074863321"
      ]
     },
     "execution_count": 6,
     "metadata": {},
     "output_type": "execute_result"
    }
   ],
   "source": [
    "XTX = X_1.T.dot(X_1)\n",
    "np.linalg.det(XTX)"
   ]
  },
  {
   "cell_type": "code",
   "execution_count": 7,
   "metadata": {},
   "outputs": [
    {
     "name": "stdout",
     "output_type": "stream",
     "text": [
      "[3.64001086 0.70753914 1.04851745]\n",
      "y = 3.640010859914204 + 0.7075391440843404*x1 + 1.0485174544175266*x2\n"
     ]
    }
   ],
   "source": [
    "XTX_inv = np.linalg.inv(XTX)\n",
    "b = XTX_inv.dot(X_1.T).dot(y)\n",
    "print(b)\n",
    "print(f'y = {b[0]} + {b[1]}*x1 + {b[2]}*x2')"
   ]
  },
  {
   "cell_type": "code",
   "execution_count": 8,
   "metadata": {},
   "outputs": [
    {
     "data": {
      "text/plain": [
       "array([ 0.65005323, -1.19458502, -1.0212859 ,  0.7733305 , -1.0060853 ,\n",
       "       -2.88174646,  0.96410803,  0.78182995,  2.73735653,  0.19702444])"
      ]
     },
     "execution_count": 8,
     "metadata": {},
     "output_type": "execute_result"
    }
   ],
   "source": [
    "z = b[0] + b[1] * X_1[:,1] + b[2] * X_1[:,2]\n",
    "e = y - z\n",
    "e"
   ]
  },
  {
   "cell_type": "code",
   "execution_count": 9,
   "metadata": {},
   "outputs": [],
   "source": [
    "def sum_of_squares(samples):\n",
    "    return ((samples - samples.mean()) ** 2).sum()"
   ]
  },
  {
   "cell_type": "code",
   "execution_count": 10,
   "metadata": {},
   "outputs": [
    {
     "data": {
      "text/plain": [
       "0.622441987650532"
      ]
     },
     "execution_count": 10,
     "metadata": {},
     "output_type": "execute_result"
    }
   ],
   "source": [
    "R_2 = 1 - sum_of_squares(e) / sum_of_squares(y)\n",
    "R_2"
   ]
  },
  {
   "cell_type": "markdown",
   "metadata": {},
   "source": [
    "check:"
   ]
  },
  {
   "cell_type": "code",
   "execution_count": 11,
   "metadata": {},
   "outputs": [
    {
     "data": {
      "text/plain": [
       "['01', '02', '03', '12', '13', '23']"
      ]
     },
     "execution_count": 11,
     "metadata": {},
     "output_type": "execute_result"
    }
   ],
   "source": [
    "xx = []\n",
    "for i in range(X.shape[1]):\n",
    "    for _ in range(i+1, X.shape[1]):\n",
    "        xx.append(f'{i}{_}')\n",
    "xx"
   ]
  },
  {
   "cell_type": "code",
   "execution_count": 12,
   "metadata": {},
   "outputs": [
    {
     "name": "stdout",
     "output_type": "stream",
     "text": [
      "1 + 01 - 0.18113594742585215\n",
      "1 + 02 - 0.030007909957041723\n",
      "1 + 03 - 0.1160649381630785\n",
      "1 + 12 - 0.5479482734039012\n",
      "1 + 13 - 0.5350785945877207\n",
      "1 + 23 - 0.622441987650532\n"
     ]
    }
   ],
   "source": [
    "for i in xx:\n",
    "    x1 = int(i[0])\n",
    "    x2 = int(i[1])\n",
    "    X_I = np.hstack((ones, X[:,x1:x2+1]))\n",
    "    XTX = X_I.T.dot(X_I)\n",
    "    if -1 < np.linalg.det(XTX) < 1:\n",
    "        print(f'{i} error')\n",
    "    XTX_inv = np.linalg.inv(XTX)\n",
    "    b = XTX_inv.dot(X_I.T).dot(y)\n",
    "    z = b[0] + b[1] * X_I[:,1] + b[2] * X_I[:,2]\n",
    "    e = y - z\n",
    "    R2 = 1 - sum_of_squares(e) / sum_of_squares(y)\n",
    "    print(f'1 + {i} - {R2}')"
   ]
  },
  {
   "cell_type": "code",
   "execution_count": 13,
   "metadata": {},
   "outputs": [
    {
     "name": "stdout",
     "output_type": "stream",
     "text": [
      "01 - -0.38274614127996287\n",
      "02 - -0.04199649065965638\n",
      "03 - 0.1160649382158081\n",
      "12 - 0.48658772399487094\n",
      "13 - 0.5352084198311\n",
      "23 - 0.40298145788934303\n"
     ]
    }
   ],
   "source": [
    "for i in xx:\n",
    "    x1 = int(i[0])\n",
    "    x2 = int(i[1])\n",
    "    X_I = X[:,x1:x2+1]\n",
    "    XTX = X_I.T.dot(X_I)\n",
    "    if -1 < np.linalg.det(XTX) < 1:\n",
    "        print(f'{i} error')\n",
    "    XTX_inv = np.linalg.inv(XTX)\n",
    "    b = XTX_inv.dot(X_I.T).dot(y)\n",
    "    z = b[0] * X_I[:,0] + b[1] * X_I[:,1]\n",
    "    e = y - z\n",
    "    R2 = 1 - sum_of_squares(e) / sum_of_squares(y)\n",
    "    print(f'{i} - {R2}')"
   ]
  },
  {
   "cell_type": "code",
   "execution_count": 14,
   "metadata": {},
   "outputs": [
    {
     "data": {
      "text/plain": [
       "5.317655071578714"
      ]
     },
     "execution_count": 14,
     "metadata": {},
     "output_type": "execute_result"
    }
   ],
   "source": [
    "n = 10\n",
    "m = 1\n",
    "\n",
    "alpha = 0.05\n",
    "k1 = m\n",
    "k2 = n - m - 1\n",
    "\n",
    "t = stats.f.ppf(1 - alpha, k1, k2)\n",
    "t"
   ]
  },
  {
   "cell_type": "code",
   "execution_count": 15,
   "metadata": {},
   "outputs": [
    {
     "name": "stdout",
     "output_type": "stream",
     "text": [
      "True\n"
     ]
    }
   ],
   "source": [
    "F = (R_2 / k1) / ((1 - R_2) / k2)\n",
    "print(F > t)"
   ]
  },
  {
   "cell_type": "markdown",
   "metadata": {},
   "source": [
    "# TASK_2"
   ]
  },
  {
   "cell_type": "markdown",
   "metadata": {},
   "source": [
    "Даны значения величины заработной платы заемщиков банка (salary) и значения их поведенческого кредитного скоринга (scoring):\n",
    "salary = [35, 45, 190, 200, 40, 70, 54, 150, 120, 110]\n",
    "scoring = [401, 574, 874, 919, 459, 739, 653, 902, 746, 832]\n",
    "Возьмём в качестве признака значение salary, а в качестве целевой переменной - scoring.\n",
    "Найдите коэффициенты линейной регрессии с помощью формул для парной регрессии, а затем с помощью метода наименьших квадратов.\n",
    "Постройте scatter plot по данным и отметьте на нём прямую линейной регрессии, полученную в п. 1.\n",
    "Посчитайте коэффициент детерминации.\n",
    "Оцените построенное уравнение регрессии с помощью F-критерия Фишера.\n",
    "Оцените значимость получившихся параметров уравнения регрессии и постройте для них доверительные интервалы с помощью t-статистики Стьюдента.\n",
    "* Посчитайте среднюю ошибку аппроксимации."
   ]
  },
  {
   "cell_type": "code",
   "execution_count": 16,
   "metadata": {},
   "outputs": [],
   "source": [
    "salary = np.array([35, 45, 190, 200, 40, 70, 54, 150, 120, 110])\n",
    "scoring = np.array([401, 574, 874, 919, 459, 739, 653, 902, 746, 832])\n",
    "x = salary\n",
    "y = scoring"
   ]
  },
  {
   "cell_type": "code",
   "execution_count": 17,
   "metadata": {},
   "outputs": [
    {
     "name": "stdout",
     "output_type": "stream",
     "text": [
      "scoring = 444.1773573243596 + 2.620538882402765*salary\n"
     ]
    }
   ],
   "source": [
    "b1 = (np.mean(x * y) - np.mean(x) * np.mean(y)) / (np.mean(x ** 2) - np.mean(x) ** 2)\n",
    "b0 = np.mean(y) - b1 * np.mean(x)\n",
    "\n",
    "print(f'scoring = {b0} + {b1}*salary')"
   ]
  },
  {
   "cell_type": "code",
   "execution_count": 18,
   "metadata": {},
   "outputs": [
    {
     "data": {
      "text/plain": [
       "349464.00000000023"
      ]
     },
     "execution_count": 18,
     "metadata": {},
     "output_type": "execute_result"
    }
   ],
   "source": [
    "x_1 = np.array([[1, 35],\n",
    "[1, 45],\n",
    "[1, 190],\n",
    "[1, 200],\n",
    "[1, 40],\n",
    "[1, 70],\n",
    "[1, 54],\n",
    "[1, 150],\n",
    "[1, 120],\n",
    "[1, 110]])\n",
    "XTX = x_1.T.dot(x_1)\n",
    "np.linalg.det(XTX)"
   ]
  },
  {
   "cell_type": "code",
   "execution_count": 19,
   "metadata": {},
   "outputs": [
    {
     "name": "stdout",
     "output_type": "stream",
     "text": [
      "scoring = 444.17735732435915 + 2.6205388824027684*salary\n"
     ]
    }
   ],
   "source": [
    "XTX_inv = np.linalg.inv(XTX)\n",
    "b = XTX_inv.dot(x_1.T).dot(y)\n",
    "print(f'scoring = {b[0]} + {b[1]}*salary')"
   ]
  },
  {
   "cell_type": "code",
   "execution_count": 20,
   "metadata": {},
   "outputs": [
    {
     "data": {
      "image/png": "[encoded data removed]",
      "text/plain": [
       "<Figure size 432x288 with 1 Axes>"
      ]
     },
     "metadata": {},
     "output_type": "display_data"
    }
   ],
   "source": [
    "ox = x\n",
    "oy = b[0] + b[1] * ox\n",
    "\n",
    "plt.scatter(x, y)\n",
    "plt.plot(ox, oy, color='red', alpha=0.5)\n",
    "\n",
    "plt.xlabel('salary')\n",
    "plt.ylabel('scoring');"
   ]
  },
  {
   "cell_type": "code",
   "execution_count": 21,
   "metadata": {},
   "outputs": [],
   "source": [
    "def sum_of_squares(samples):\n",
    "    return ((samples - samples.mean()) ** 2).sum()"
   ]
  },
  {
   "cell_type": "code",
   "execution_count": 22,
   "metadata": {},
   "outputs": [
    {
     "data": {
      "text/plain": [
       "0.7876386635293685"
      ]
     },
     "execution_count": 22,
     "metadata": {},
     "output_type": "execute_result"
    }
   ],
   "source": [
    "z = b[0] + b[1] * x\n",
    "e = y - z\n",
    "R = 1 - sum_of_squares(e) / sum_of_squares(y)\n",
    "R"
   ]
  },
  {
   "cell_type": "code",
   "execution_count": 25,
   "metadata": {},
   "outputs": [
    {
     "name": "stdout",
     "output_type": "stream",
     "text": [
      "F = 29.67164085966449, t =5.317655071578714, True\n"
     ]
    }
   ],
   "source": [
    "n = 10\n",
    "m = 1\n",
    "\n",
    "alpha = 0.05\n",
    "k1 = m\n",
    "k2 = n - m - 1\n",
    "\n",
    "t = stats.f.ppf(1 - alpha, k1, k2)\n",
    "F = (R / k1) / ((1 - R) / k2)\n",
    "print(f'F = {F}, t ={t}, {F > t}')"
   ]
  },
  {
   "cell_type": "code",
   "execution_count": 26,
   "metadata": {},
   "outputs": [
    {
     "data": {
      "text/plain": [
       "(1.5111599662593749, 3.729917798546162)"
      ]
     },
     "execution_count": 26,
     "metadata": {},
     "output_type": "execute_result"
    }
   ],
   "source": [
    "alpha = 0.05\n",
    "n = x.shape[0]\n",
    "upper = ((y - z) ** 2).sum() / (n - 2)\n",
    "lower = ((x - x.mean()) ** 2).sum()\n",
    "S_slope = np.sqrt(upper / lower)\n",
    "t1 = stats.t.ppf(alpha / 2, df=n - 2)\n",
    "t2 = stats.t.ppf(1 - alpha / 2, df=n - 2)\n",
    "(b[1] + t1 * S_slope, b[1] + t2 * S_slope)"
   ]
  },
  {
   "cell_type": "code",
   "execution_count": 27,
   "metadata": {},
   "outputs": [
    {
     "data": {
      "text/plain": [
       "(313.9653804816358, 574.3893341670824)"
      ]
     },
     "execution_count": 27,
     "metadata": {},
     "output_type": "execute_result"
    }
   ],
   "source": [
    "S_intercept = S_slope * np.sqrt((x ** 2).mean())\n",
    "(b[0] + t1 * S_intercept, b[0]+ t2 * S_intercept)"
   ]
  },
  {
   "cell_type": "code",
   "execution_count": 29,
   "metadata": {},
   "outputs": [
    {
     "data": {
      "text/plain": [
       "11.469251843561711"
      ]
     },
     "execution_count": 29,
     "metadata": {},
     "output_type": "execute_result"
    }
   ],
   "source": [
    "a_mean = np.abs(e / y * 100).mean()\n",
    "a_mean"
   ]
  }
 ],
 "metadata": {
  "kernelspec": {
   "display_name": "Python 3",
   "language": "python",
   "name": "python3"
  },
  "language_info": {
   "codemirror_mode": {
    "name": "ipython",
    "version": 3
   },
   "file_extension": ".py",
   "mimetype": "text/x-python",
   "name": "python",
   "nbconvert_exporter": "python",
   "pygments_lexer": "ipython3",
   "version": "3.7.6"
  }
 },
 "nbformat": 4,
 "nbformat_minor": 4
}
