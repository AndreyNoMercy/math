{
 "cells": [
  {
   "cell_type": "code",
   "execution_count": 27,
   "metadata": {},
   "outputs": [],
   "source": [
    "import numpy as np\n",
    "from scipy import stats"
   ]
  },
  {
   "cell_type": "markdown",
   "metadata": {},
   "source": [
    "# TASK_1"
   ]
  },
  {
   "cell_type": "markdown",
   "metadata": {},
   "source": [
    "Провести дисперсионный анализ для определения того, есть ли различия среднего роста среди взрослых футболистов, хоккеистов и штангистов. Даны значения роста в трех группах случайно выбранных спортсменов:\n",
    "football_players = [173, 175, 180, 178, 177, 185, 183, 182]\n",
    "hockey_players = [177, 179, 180, 188, 177, 172, 171, 184, 180]\n",
    "lifters = [172, 173, 169, 177, 166, 180, 178, 177, 172, 166, 170]"
   ]
  },
  {
   "cell_type": "code",
   "execution_count": 5,
   "metadata": {},
   "outputs": [],
   "source": [
    "football_players = np.array([173, 175, 180, 178, 177, 185, 183, 182])\n",
    "hockey_players = np.array([177, 179, 180, 188, 177, 172, 171, 184, 180])\n",
    "lifters = np.array([172, 173, 169, 177, 166, 180, 178, 177, 172, 166, 170])"
   ]
  },
  {
   "cell_type": "code",
   "execution_count": 11,
   "metadata": {},
   "outputs": [
    {
     "data": {
      "text/plain": [
       "(3, 28)"
      ]
     },
     "execution_count": 11,
     "metadata": {},
     "output_type": "execute_result"
    }
   ],
   "source": [
    "k = 3 \n",
    "n = lifters.shape[0] + hockey_players.shape[0] + football_players.shape[0]\n",
    "k, n"
   ]
  },
  {
   "cell_type": "code",
   "execution_count": 14,
   "metadata": {},
   "outputs": [
    {
     "data": {
      "text/plain": [
       "176.46428571428572"
      ]
     },
     "execution_count": 14,
     "metadata": {},
     "output_type": "execute_result"
    }
   ],
   "source": [
    "Y_mean = (lifters.shape[0] * lifters.mean() + hockey_players.shape[0] * hockey_players.mean() + football_players.shape[0] * football_players.mean()) / n\n",
    "Y_mean"
   ]
  },
  {
   "cell_type": "code",
   "execution_count": 23,
   "metadata": {},
   "outputs": [
    {
     "name": "stdout",
     "output_type": "stream",
     "text": [
      "830.9642857142854 253.9074675324678 577.0568181818181\n",
      "830.9642857142859\n"
     ]
    }
   ],
   "source": [
    "sample = [football_players, hockey_players, lifters]\n",
    "S_2 = 0\n",
    "S_2f = 0\n",
    "S_2l = 0\n",
    "for i in sample:\n",
    "    S_2f += ((i.mean() - Y_mean) ** 2) * i.shape[0]\n",
    "    for j in i:\n",
    "        S_2 += (j - Y_mean) ** 2\n",
    "        S_2l += (j - i.mean()) ** 2\n",
    "print(S_2, S_2f, S_2l)\n",
    "print(f'{S_2f + S_2l}')"
   ]
  },
  {
   "cell_type": "code",
   "execution_count": 25,
   "metadata": {},
   "outputs": [
    {
     "data": {
      "text/plain": [
       "(29.67729591836734, 83.63582251082259, 17.609172077922075)"
      ]
     },
     "execution_count": 25,
     "metadata": {},
     "output_type": "execute_result"
    }
   ],
   "source": [
    "D_2 = S_2 / n\n",
    "D_2f = S_2f / k - 1\n",
    "D_2l = S_2l / n - k\n",
    "D_2, D_2f, D_2l"
   ]
  },
  {
   "cell_type": "code",
   "execution_count": 33,
   "metadata": {},
   "outputs": [
    {
     "name": "stdout",
     "output_type": "stream",
     "text": [
      "4.749560180383666 3.3851899614491687\n",
      "True\n"
     ]
    }
   ],
   "source": [
    "Fn = D_2f / D_2l\n",
    "Fc = stats.f.ppf(0.95, k-1, n - k)\n",
    "print(Fn, Fc)\n",
    "print(f'{Fn > Fc}')"
   ]
  }
 ],
 "metadata": {
  "kernelspec": {
   "display_name": "Python 3",
   "language": "python",
   "name": "python3"
  },
  "language_info": {
   "codemirror_mode": {
    "name": "ipython",
    "version": 3
   },
   "file_extension": ".py",
   "mimetype": "text/x-python",
   "name": "python",
   "nbconvert_exporter": "python",
   "pygments_lexer": "ipython3",
   "version": "3.7.6"
  }
 },
 "nbformat": 4,
 "nbformat_minor": 4
}
