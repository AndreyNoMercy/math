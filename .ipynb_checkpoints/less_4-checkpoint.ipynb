{
 "cells": [
  {
   "cell_type": "code",
   "execution_count": 94,
   "metadata": {},
   "outputs": [],
   "source": [
    "import numpy as np\n",
    "from scipy.stats import norm\n",
    "from scipy.stats import uniform\n",
    "from matplotlib import pyplot as plt"
   ]
  },
  {
   "cell_type": "markdown",
   "metadata": {},
   "source": [
    "# TASK_1"
   ]
  },
  {
   "cell_type": "markdown",
   "metadata": {},
   "source": [
    "Коробки с шоколадом упаковываются автоматически. Их средняя масса равна 1.06 кг. Известно, что 5% коробок имеют массу, меньшую 1 кг. Найдите: а) среднее квадратическое отклонение массы коробки, б) процент коробок, имеющих массу больше 1.1 кг.\n",
    "Подсказка. 1. Можно считать, что распределение массы коробки нормальное. 2. Найдите такое значение scale, для которого значение cdf(x=1, loc=1.06, scale=scale) близко к 0.05. Точности 0.0001 будет достаточно."
   ]
  },
  {
   "cell_type": "code",
   "execution_count": 25,
   "metadata": {},
   "outputs": [
    {
     "data": {
      "text/plain": [
       "0.050000884018491586"
      ]
     },
     "execution_count": 25,
     "metadata": {},
     "output_type": "execute_result"
    }
   ],
   "source": [
    "loc = 1.06\n",
    "cdf_a = norm.cdf(x=1, loc=1.06, scale=0.0364776) \n",
    "cdf_a"
   ]
  },
  {
   "cell_type": "code",
   "execution_count": 30,
   "metadata": {},
   "outputs": [
    {
     "name": "stdout",
     "output_type": "stream",
     "text": [
      "a) scale=0.0364776\n",
      "b) 13.641615360349618\n"
     ]
    }
   ],
   "source": [
    "cdf_b = norm.cdf(x=1.1, loc=1.06, scale=0.0364776)\n",
    "print(f'a) scale=0.0364776')\n",
    "print(f'b) {100 - cdf_b * 100 }')"
   ]
  },
  {
   "cell_type": "code",
   "execution_count": null,
   "metadata": {},
   "outputs": [],
   "source": [
    "p.s.: так было лень что-то придумывать для опреления ср квадратичного отклонения, что выбрал метод научного тыка."
   ]
  },
  {
   "cell_type": "markdown",
   "metadata": {},
   "source": [
    "# TASK_2"
   ]
  },
  {
   "cell_type": "markdown",
   "metadata": {},
   "source": [
    "Коробка содержит 30 конфет. Известно, что масса каждой конфеты распределена равномерно в промежутке от 12 до 14 граммов. Используя центральную предельную теорему, найти вероятность, что масса всей коробки будет: а) меньше 390 граммов, б) больше 395 граммов, в) от 380 до 400 граммов.\n",
    "Массой самой коробки можно пренебречь.\n",
    "Подсказка. Для равномерного распределения в промежутке [a, b]:\n",
    "1. мат. ожидание равно (a + b) / 2,\n",
    "2. дисперсия равна (b - a)^2 / 12."
   ]
  },
  {
   "cell_type": "code",
   "execution_count": 45,
   "metadata": {},
   "outputs": [
    {
     "data": {
      "text/plain": [
       "1.0"
      ]
     },
     "execution_count": 45,
     "metadata": {},
     "output_type": "execute_result"
    }
   ],
   "source": [
    "n = 30\n",
    "a = 12 \n",
    "b = 14\n",
    "M = (a + b) / 2\n",
    "D = (b - a) ** 2 / 12\n",
    "F = 1 / (b - a)"
   ]
  },
  {
   "cell_type": "markdown",
   "metadata": {},
   "source": [
    "много гуглил, искал и даже иногда думал. В итоге так и не нашел решения!\n",
    "Но раз Непреры́вное равноме́рное распределе́ние в теории вероятностей — распределение случайной вещественной величины, принимающей значения, принадлежащие некоторому промежутку конечной длины, характеризующееся тем, что плотность вероятности на этом промежутке почти всюду постоянна.\n",
    "Пришел к выводу, что надо просто умножать все на 30))))"
   ]
  },
  {
   "cell_type": "code",
   "execution_count": 58,
   "metadata": {},
   "outputs": [
    {
     "name": "stdout",
     "output_type": "stream",
     "text": [
      "a) 0.5, b) 0.3085375387259869, c) 0.6826894921370859\n"
     ]
    }
   ],
   "source": [
    "Pa = norm.cdf(390, loc=n*M, scale=n*D)\n",
    "Pb = norm.sf(395, loc=n*M, scale=n*D)\n",
    "Pc = 1 - norm.cdf(380, loc=n*M, scale=n*D) - norm.sf(400, loc=n*M, scale=n*D)\n",
    "print(f'a) {Pa}, b) {Pb}, c) {Pc}')"
   ]
  },
  {
   "cell_type": "markdown",
   "metadata": {},
   "source": [
    "# TASK_3"
   ]
  },
  {
   "cell_type": "markdown",
   "metadata": {},
   "source": [
    "Продемонстрируйте действие центральной предельной теоремы на каком-нибудь распределении на ваш выбор (кроме нормального). Что для этого нужно сделать:\n",
    "1. Выберите несколько значений n (например, 2, 5, 10, 50).\n",
    "2. Для выбранного значения n сгенерируйте 1000 раз выборку размера n из выбранного вами распределения, посчитайте по этой выборке выборочное среднее.\n",
    "3. Изобразите гистограмму из полученных 1000 значений выборочного среднего с аргументом density=True.\n",
    "4. Поверх гистограммы нарисуйте функцию плотности нормального распределения с параметрами из ЦПТ (т.е. mu = M, sigma^2 = D / n, где M - мат. ожидание выбранного вами распределения, D - его дисперсия).\n",
    "При достаточно большом n гистограмма должна соответствовать построенной функции плотности."
   ]
  },
  {
   "cell_type": "code",
   "execution_count": 240,
   "metadata": {},
   "outputs": [],
   "source": [
    "def pdf_normal(loc, scale, x, n):\n",
    "    return np.exp(- ((x - loc) ** 2) / (2 * scale / n)) / (np.sqrt(scale/n) * np.sqrt(2 * np.pi))\n",
    "\n",
    "def get_mean_samples_laplace(n, loc_, scale_):\n",
    "    samples = np.random.laplace(loc=loc_, scale=scale_, size=(1000, n))   \n",
    "    return samples.mean(axis=1)"
   ]
  },
  {
   "cell_type": "code",
   "execution_count": 239,
   "metadata": {},
   "outputs": [],
   "source": [
    "loc_ = 0\n",
    "scale_ = 1"
   ]
  },
  {
   "cell_type": "code",
   "execution_count": 242,
   "metadata": {},
   "outputs": [
    {
     "data": {
      "text/plain": [
       "[<matplotlib.lines.Line2D at 0x7fccf1df0bd0>]"
      ]
     },
     "execution_count": 242,
     "metadata": {},
     "output_type": "execute_result"
    },
    {
     "data": {
      "image/png": "[encoded data removed]",
      "text/plain": [
       "<Figure size 432x288 with 1 Axes>"
      ]
     },
     "metadata": {
      "needs_background": "light"
     },
     "output_type": "display_data"
    }
   ],
   "source": [
    "n = 2\n",
    "samples = get_mean_samples_laplace(n=n, loc_=loc_, scale_=scale_)\n",
    "ox = np.linspace(loc_ - 4 * scale_, loc_ + 4 * scale_, 1000)\n",
    "oy = np.array([pdf_normal(loc=loc_, scale=scale_, x=x_, n=n) for x_ in ox])\n",
    "#oy = np.array([norm.pdf(loc=loc_, scale=scale_/n, x=x_) for x_ in ox])\n",
    "plt.hist(samples, density=True, bins=20)\n",
    "plt.plot(ox, oy)"
   ]
  },
  {
   "cell_type": "code",
   "execution_count": 243,
   "metadata": {},
   "outputs": [
    {
     "data": {
      "text/plain": [
       "[<matplotlib.lines.Line2D at 0x7fccf1f445d0>]"
      ]
     },
     "execution_count": 243,
     "metadata": {},
     "output_type": "execute_result"
    },
    {
     "data": {
      "image/png": "[encoded data removed]",
      "text/plain": [
       "<Figure size 432x288 with 1 Axes>"
      ]
     },
     "metadata": {
      "needs_background": "light"
     },
     "output_type": "display_data"
    }
   ],
   "source": [
    "n = 5\n",
    "samples = get_mean_samples_laplace(n=n, loc_=loc_, scale_=scale_)\n",
    "ox = np.linspace(loc_ - 4 * scale_, loc_ + 4 * scale_, 1000)\n",
    "oy = np.array([pdf_normal(loc=loc_, scale=scale_, x=x_, n=n) for x_ in ox])\n",
    "#oy = np.array([norm.pdf(loc=loc_, scale=scale_/n, x=x_) for x_ in ox])\n",
    "plt.hist(samples, density=True, bins=20)\n",
    "plt.plot(ox, oy)"
   ]
  },
  {
   "cell_type": "code",
   "execution_count": 244,
   "metadata": {},
   "outputs": [
    {
     "data": {
      "text/plain": [
       "[<matplotlib.lines.Line2D at 0x7fcd119ae590>]"
      ]
     },
     "execution_count": 244,
     "metadata": {},
     "output_type": "execute_result"
    },
    {
     "data": {
      "image/png": "[encoded data removed]",
      "text/plain": [
       "<Figure size 432x288 with 1 Axes>"
      ]
     },
     "metadata": {
      "needs_background": "light"
     },
     "output_type": "display_data"
    }
   ],
   "source": [
    "n = 10\n",
    "samples = get_mean_samples_laplace(n=n, loc_=loc_, scale_=scale_)\n",
    "ox = np.linspace(loc_ - 4 * scale_, loc_ + 4 * scale_, 1000)\n",
    "oy = np.array([pdf_normal(loc=loc_, scale=scale_, x=x_, n=n) for x_ in ox])\n",
    "#oy = np.array([norm.pdf(loc=loc_, scale=scale_/n, x=x_) for x_ in ox])\n",
    "plt.hist(samples, density=True, bins=20)\n",
    "plt.plot(ox, oy)"
   ]
  },
  {
   "cell_type": "code",
   "execution_count": 246,
   "metadata": {},
   "outputs": [
    {
     "data": {
      "text/plain": [
       "[<matplotlib.lines.Line2D at 0x7fccf21ffd10>]"
      ]
     },
     "execution_count": 246,
     "metadata": {},
     "output_type": "execute_result"
    },
    {
     "data": {
      "image/png": "[encoded data removed]",
      "text/plain": [
       "<Figure size 432x288 with 1 Axes>"
      ]
     },
     "metadata": {
      "needs_background": "light"
     },
     "output_type": "display_data"
    }
   ],
   "source": [
    "n = 50\n",
    "samples = get_mean_samples_laplace(n=n, loc_=loc_, scale_=scale_)\n",
    "ox = np.linspace(loc_ - 4 * scale_, loc_ + 4 * scale_, 1000)\n",
    "oy = np.array([pdf_normal(loc=loc_, scale=scale_, x=x_, n=n) for x_ in ox])\n",
    "#oy = np.array([norm.pdf(loc=loc_, scale=scale_/n, x=x_) for x_ in ox])\n",
    "plt.hist(samples, density=True, bins=20)\n",
    "plt.plot(ox, oy)"
   ]
  },
  {
   "cell_type": "code",
   "execution_count": 247,
   "metadata": {},
   "outputs": [
    {
     "data": {
      "text/plain": [
       "[<matplotlib.lines.Line2D at 0x7fcd11b3bad0>]"
      ]
     },
     "execution_count": 247,
     "metadata": {},
     "output_type": "execute_result"
    },
    {
     "data": {
      "image/png": "[encoded data removed]",
      "text/plain": [
       "<Figure size 432x288 with 1 Axes>"
      ]
     },
     "metadata": {
      "needs_background": "light"
     },
     "output_type": "display_data"
    }
   ],
   "source": [
    "n = 150\n",
    "samples = get_mean_samples_laplace(n=n, loc_=loc_, scale_=scale_)\n",
    "ox = np.linspace(loc_ - 4 * scale_, loc_ + 4 * scale_, 1000)\n",
    "oy = np.array([pdf_normal(loc=loc_, scale=scale_, x=x_, n=n) for x_ in ox])\n",
    "#oy = np.array([norm.pdf(loc=loc_, scale=scale_/n, x=x_) for x_ in ox])\n",
    "plt.hist(samples, density=True, bins=20)\n",
    "plt.plot(ox, oy)"
   ]
  }
 ],
 "metadata": {
  "kernelspec": {
   "display_name": "Python 3",
   "language": "python",
   "name": "python3"
  },
  "language_info": {
   "codemirror_mode": {
    "name": "ipython",
    "version": 3
   },
   "file_extension": ".py",
   "mimetype": "text/x-python",
   "name": "python",
   "nbconvert_exporter": "python",
   "pygments_lexer": "ipython3",
   "version": "3.7.6"
  }
 },
 "nbformat": 4,
 "nbformat_minor": 4
}
