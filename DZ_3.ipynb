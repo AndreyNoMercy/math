{
 "cells": [
  {
   "cell_type": "code",
   "execution_count": 1,
   "metadata": {},
   "outputs": [],
   "source": [
    "import numpy as np\n",
    "from scipy.stats import norm\n",
    "import matplotlib.pyplot as plt\n",
    "from sklearn import datasets"
   ]
  },
  {
   "cell_type": "markdown",
   "metadata": {},
   "source": [
    "Определите AUC_ROC и AUC_PR для модели логистической регрессии на тестовой выборке. Используйте реализацию модели в виде класса и функцию confusion, чтобы рассчитать TPR, FPR, precision, recal для различных порогов вероятности.\n",
    "Дополнительное задание(не обязательно): Получите такие же характеристики для линейной регрессии и сравните две модели.\n",
    "Подробности в .ipynb файле"
   ]
  },
  {
   "cell_type": "code",
   "execution_count": 2,
   "metadata": {},
   "outputs": [],
   "source": [
    "class logistic_regression:\n",
    "    def __init__(self, n_iterations=1000, eta=0.05):\n",
    "        self.n_iterations=1000\n",
    "        self.eta=eta\n",
    "    def _log_grad(self, X, target):\n",
    "        m = X.shape[0]\n",
    "        y=(2*target-1)\n",
    "        score=np.dot(X, self.w.T).flatten()+self.w0\n",
    "        Z=-y/(m*(1+np.exp(y*score)))\n",
    "        grad=Z[np.newaxis, :].dot(X)\n",
    "        return grad/m, np.sum(Z)/m\n",
    "    def _optimize(self, X, target):\n",
    "        for i in range(self.n_iterations):        \n",
    "            grad_w, grad_w0 = self._log_grad(X, target)\n",
    "            self.w = self.w-self.eta * grad_w\n",
    "            self.w0 = self.w0 - self.eta * grad_w0\n",
    "    def fit(self, X, target):\n",
    "        self.w = np.zeros((1, X.shape[1]))\n",
    "        self.w0=0\n",
    "        self._optimize(X, target)\n",
    "    def predict_proba(self, X):  \n",
    "        '''\n",
    "        Рассчёт вероятности\n",
    "        '''\n",
    "        score=X.dot(self.w.T).flatten()+self.w0\n",
    "        return 1/(1+np.exp(-score))\n",
    "    def predict(self, X, thr=0.5):\n",
    "        proba=self.predict_proba(X)\n",
    "        y_predicted = np.zeros(proba.shape, dtype=bool) \n",
    "        y_predicted[proba>thr]=1\n",
    "        y_predicted[proba<=thr]=0\n",
    "        return y_predicted"
   ]
  },
  {
   "cell_type": "code",
   "execution_count": 3,
   "metadata": {},
   "outputs": [],
   "source": [
    "def confusion(predicted, actual):\n",
    "    TP=np.sum(np.logical_and(predicted==1, actual==1))\n",
    "    FP=np.sum(np.logical_and(predicted==1, actual==0))\n",
    "    FN=np.sum(np.logical_and(predicted==0, actual==1))\n",
    "    TN=np.sum(np.logical_and(predicted==0, actual==0))\n",
    "    return {'TP': TP, 'FP': FP, 'FN': FN, 'TN': TN}"
   ]
  },
  {
   "cell_type": "code",
   "execution_count": 4,
   "metadata": {},
   "outputs": [],
   "source": [
    "classes = datasets.make_classification(n_samples=100, n_features=2, n_informative=2,\n",
    "                                       n_redundant=0, n_classes=2, random_state=1)"
   ]
  },
  {
   "cell_type": "code",
   "execution_count": 5,
   "metadata": {},
   "outputs": [
    {
     "name": "stdout",
     "output_type": "stream",
     "text": [
      "Размер массива признаков обучающей выборки (70, 2)\n",
      "Размер массива признаков тестовой выборки (30, 2)\n",
      "Размер массива ответов для обучающей выборки (70,)\n",
      "Размер массива ответов для тестовой выборки (30,)\n"
     ]
    }
   ],
   "source": [
    "np.random.seed(12)\n",
    "shuffle_index = np.random.permutation(classes[0].shape[0])\n",
    "X_shuffled, y_shuffled = classes[0][shuffle_index], classes[1][shuffle_index]\n",
    "train_proportion = 0.7\n",
    "train_test_cut = int(len(classes[0]) * train_proportion)\n",
    "X_train, X_test, y_train, y_test = \\\n",
    "    X_shuffled[:train_test_cut], \\\n",
    "    X_shuffled[train_test_cut:], \\\n",
    "    y_shuffled[:train_test_cut], \\\n",
    "    y_shuffled[train_test_cut:]\n",
    "    \n",
    "print(\"Размер массива признаков обучающей выборки\", X_train.shape)\n",
    "print(\"Размер массива признаков тестовой выборки\", X_test.shape)\n",
    "print(\"Размер массива ответов для обучающей выборки\", y_train.shape)\n",
    "print(\"Размер массива ответов для тестовой выборки\", y_test.shape)"
   ]
  },
  {
   "cell_type": "code",
   "execution_count": 6,
   "metadata": {},
   "outputs": [],
   "source": [
    "mod=logistic_regression()\n",
    "mod.fit(X_train, y_train)\n",
    "proba=np.unique(mod.predict_proba(X_test))"
   ]
  },
  {
   "cell_type": "code",
   "execution_count": 7,
   "metadata": {},
   "outputs": [
    {
     "name": "stdout",
     "output_type": "stream",
     "text": [
      "Для порога по вероятности 0.37576183889983183 на тестовой выборке имеем: {'TP': 16, 'FP': 13, 'FN': 0, 'TN': 1}\n",
      "Для порога по вероятности 0.37743531819847453 на тестовой выборке имеем: {'TP': 16, 'FP': 12, 'FN': 0, 'TN': 2}\n",
      "Для порога по вероятности 0.38605073396047773 на тестовой выборке имеем: {'TP': 16, 'FP': 11, 'FN': 0, 'TN': 3}\n",
      "Для порога по вероятности 0.3932982404221594 на тестовой выборке имеем: {'TP': 16, 'FP': 10, 'FN': 0, 'TN': 4}\n",
      "Для порога по вероятности 0.3960311448763592 на тестовой выборке имеем: {'TP': 16, 'FP': 9, 'FN': 0, 'TN': 5}\n",
      "Для порога по вероятности 0.4219700922749085 на тестовой выборке имеем: {'TP': 16, 'FP': 8, 'FN': 0, 'TN': 6}\n",
      "Для порога по вероятности 0.4258110607284189 на тестовой выборке имеем: {'TP': 16, 'FP': 7, 'FN': 0, 'TN': 7}\n",
      "Для порога по вероятности 0.4351868598210908 на тестовой выборке имеем: {'TP': 16, 'FP': 6, 'FN': 0, 'TN': 8}\n",
      "Для порога по вероятности 0.43566683838569675 на тестовой выборке имеем: {'TP': 16, 'FP': 5, 'FN': 0, 'TN': 9}\n",
      "Для порога по вероятности 0.43744861232054794 на тестовой выборке имеем: {'TP': 16, 'FP': 4, 'FN': 0, 'TN': 10}\n",
      "Для порога по вероятности 0.4392821549169758 на тестовой выборке имеем: {'TP': 16, 'FP': 3, 'FN': 0, 'TN': 11}\n",
      "Для порога по вероятности 0.46380207065637397 на тестовой выборке имеем: {'TP': 16, 'FP': 2, 'FN': 0, 'TN': 12}\n",
      "Для порога по вероятности 0.4691646657316933 на тестовой выборке имеем: {'TP': 16, 'FP': 1, 'FN': 0, 'TN': 13}\n",
      "Для порога по вероятности 0.47141598143302305 на тестовой выборке имеем: {'TP': 15, 'FP': 1, 'FN': 1, 'TN': 13}\n",
      "Для порога по вероятности 0.47900766478809503 на тестовой выборке имеем: {'TP': 15, 'FP': 0, 'FN': 1, 'TN': 14}\n",
      "Для порога по вероятности 0.5130075417932576 на тестовой выборке имеем: {'TP': 14, 'FP': 0, 'FN': 2, 'TN': 14}\n",
      "Для порога по вероятности 0.5351629589381997 на тестовой выборке имеем: {'TP': 13, 'FP': 0, 'FN': 3, 'TN': 14}\n",
      "Для порога по вероятности 0.5356831591146942 на тестовой выборке имеем: {'TP': 12, 'FP': 0, 'FN': 4, 'TN': 14}\n",
      "Для порога по вероятности 0.5420680125899462 на тестовой выборке имеем: {'TP': 11, 'FP': 0, 'FN': 5, 'TN': 14}\n",
      "Для порога по вероятности 0.5470397841279183 на тестовой выборке имеем: {'TP': 10, 'FP': 0, 'FN': 6, 'TN': 14}\n",
      "Для порога по вероятности 0.5554778773747202 на тестовой выборке имеем: {'TP': 9, 'FP': 0, 'FN': 7, 'TN': 14}\n",
      "Для порога по вероятности 0.5605485954538282 на тестовой выборке имеем: {'TP': 8, 'FP': 0, 'FN': 8, 'TN': 14}\n",
      "Для порога по вероятности 0.5640365637648698 на тестовой выборке имеем: {'TP': 7, 'FP': 0, 'FN': 9, 'TN': 14}\n",
      "Для порога по вероятности 0.564394932280336 на тестовой выборке имеем: {'TP': 6, 'FP': 0, 'FN': 10, 'TN': 14}\n",
      "Для порога по вероятности 0.5690112812459007 на тестовой выборке имеем: {'TP': 5, 'FP': 0, 'FN': 11, 'TN': 14}\n",
      "Для порога по вероятности 0.5709156918919097 на тестовой выборке имеем: {'TP': 4, 'FP': 0, 'FN': 12, 'TN': 14}\n",
      "Для порога по вероятности 0.5743251614774529 на тестовой выборке имеем: {'TP': 3, 'FP': 0, 'FN': 13, 'TN': 14}\n",
      "Для порога по вероятности 0.5792811063971612 на тестовой выборке имеем: {'TP': 2, 'FP': 0, 'FN': 14, 'TN': 14}\n",
      "Для порога по вероятности 0.5814037305151907 на тестовой выборке имеем: {'TP': 1, 'FP': 0, 'FN': 15, 'TN': 14}\n",
      "Для порога по вероятности 0.5996765491393211 на тестовой выборке имеем: {'TP': 0, 'FP': 0, 'FN': 16, 'TN': 14}\n"
     ]
    },
    {
     "name": "stderr",
     "output_type": "stream",
     "text": [
      "/Users/mac/opt/anaconda3/lib/python3.7/site-packages/ipykernel_launcher.py:10: RuntimeWarning: invalid value encountered in long_scalars\n",
      "  # Remove the CWD from sys.path while we load stuff.\n"
     ]
    }
   ],
   "source": [
    "conf = []\n",
    "FPR = []\n",
    "TPR = []\n",
    "precision = []\n",
    "for p in proba:\n",
    "    confusion_p = confusion(mod.predict(X_test, p), y_test)\n",
    "    conf.append(confusion_p)\n",
    "    FPR.append(confusion_p['FP'] / (confusion_p['FP'] + confusion_p['TN']))\n",
    "    TPR.append(confusion_p['TP'] / (confusion_p['TP'] + confusion_p['FN']))\n",
    "    precision.append(confusion_p['TP'] / (confusion_p['TP'] + confusion_p['FP']))\n",
    "    print(\"Для порога по вероятности {0} на тестовой выборке имеем:\".format(p)+\n",
    "      f\" {confusion_p}\")\n",
    "recall = TPR"
   ]
  },
  {
   "cell_type": "code",
   "execution_count": 8,
   "metadata": {},
   "outputs": [],
   "source": [
    "precision.reverse()\n",
    "FPR.append(1)\n",
    "TPR.append(0)\n",
    "FPR.reverse()\n",
    "TPR.reverse()\n",
    "precision = np.array(precision)\n",
    "FPR = np.array(FPR)\n",
    "TPR = np.array(TPR)\n",
    "recall = TPR[1:]"
   ]
  },
  {
   "cell_type": "code",
   "execution_count": 9,
   "metadata": {},
   "outputs": [
    {
     "data": {
      "text/plain": [
       "[<matplotlib.lines.Line2D at 0x7fec64ae9bd0>]"
      ]
     },
     "execution_count": 9,
     "metadata": {},
     "output_type": "execute_result"
    },
    {
     "data": {
      "image/png": "[encoded data removed]",
      "text/plain": [
       "<Figure size 432x288 with 1 Axes>"
      ]
     },
     "metadata": {
      "needs_background": "light"
     },
     "output_type": "display_data"
    }
   ],
   "source": [
    "AUC_ROC = np.sum((FPR[1:]-FPR[:-1])*(TPR[1:]+TPR[:-1])/2)\n",
    "\n",
    "plt.title('ROC curve')\n",
    "plt.ylim(0, 1.05)\n",
    "plt.xlabel('FPR')\n",
    "plt.ylabel('TPR')\n",
    "plt.grid()\n",
    "plt.legend(' ', title=f'AUC-ROC={AUC_ROC:.3f}', loc='lower right')\n",
    "plt.plot(FPR, TPR)"
   ]
  },
  {
   "cell_type": "code",
   "execution_count": 10,
   "metadata": {},
   "outputs": [],
   "source": [
    "precision = precision[1:]"
   ]
  },
  {
   "cell_type": "code",
   "execution_count": 11,
   "metadata": {},
   "outputs": [
    {
     "data": {
      "text/plain": [
       "[<matplotlib.lines.Line2D at 0x7fec64cf9390>]"
      ]
     },
     "execution_count": 11,
     "metadata": {},
     "output_type": "execute_result"
    },
    {
     "data": {
      "image/png": "[encoded data removed]",
      "text/plain": [
       "<Figure size 432x288 with 1 Axes>"
      ]
     },
     "metadata": {
      "needs_background": "light"
     },
     "output_type": "display_data"
    }
   ],
   "source": [
    "AUC_PR = np.sum(precision*(recall[1:]-recall[:-1]))\n",
    "\n",
    "plt.title('PR curve')\n",
    "plt.ylim(0, 1.05)\n",
    "plt.xlabel('recall')\n",
    "plt.ylabel('presision')\n",
    "plt.grid()\n",
    "plt.legend(' ', title=f'AUC-PR={AUC_PR:.3f}', loc='lower right')\n",
    "plt.plot(recall[1:], precision)"
   ]
  }
 ],
 "metadata": {
  "kernelspec": {
   "display_name": "Python 3",
   "language": "python",
   "name": "python3"
  },
  "language_info": {
   "codemirror_mode": {
    "name": "ipython",
    "version": 3
   },
   "file_extension": ".py",
   "mimetype": "text/x-python",
   "name": "python",
   "nbconvert_exporter": "python",
   "pygments_lexer": "ipython3",
   "version": "3.7.6"
  }
 },
 "nbformat": 4,
 "nbformat_minor": 4
}
